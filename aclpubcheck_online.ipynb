{
  "nbformat": 4,
  "nbformat_minor": 0,
  "metadata": {
    "colab": {
      "provenance": []
    },
    "kernelspec": {
      "name": "python3",
      "display_name": "Python 3"
    },
    "language_info": {
      "name": "python"
    },
    "widgets": {
      "application/vnd.jupyter.widget-state+json": {
        "f6fed292d0ef485bbb83ad238dffe0b4": {
          "model_module": "@jupyter-widgets/controls",
          "model_name": "DropdownModel",
          "model_module_version": "1.5.0",
          "state": {
            "_dom_classes": [],
            "_model_module": "@jupyter-widgets/controls",
            "_model_module_version": "1.5.0",
            "_model_name": "DropdownModel",
            "_options_labels": [
              "long",
              "short",
              "demo"
            ],
            "_view_count": null,
            "_view_module": "@jupyter-widgets/controls",
            "_view_module_version": "1.5.0",
            "_view_name": "DropdownView",
            "description": "Paper type:",
            "description_tooltip": null,
            "disabled": false,
            "index": 0,
            "layout": "IPY_MODEL_4e6ae31e5e51498c924eea02c65f9cea",
            "style": "IPY_MODEL_57e8b8127118436884f916a243091017"
          }
        },
        "4e6ae31e5e51498c924eea02c65f9cea": {
          "model_module": "@jupyter-widgets/base",
          "model_name": "LayoutModel",
          "model_module_version": "1.2.0",
          "state": {
            "_model_module": "@jupyter-widgets/base",
            "_model_module_version": "1.2.0",
            "_model_name": "LayoutModel",
            "_view_count": null,
            "_view_module": "@jupyter-widgets/base",
            "_view_module_version": "1.2.0",
            "_view_name": "LayoutView",
            "align_content": null,
            "align_items": null,
            "align_self": null,
            "border": null,
            "bottom": null,
            "display": null,
            "flex": null,
            "flex_flow": null,
            "grid_area": null,
            "grid_auto_columns": null,
            "grid_auto_flow": null,
            "grid_auto_rows": null,
            "grid_column": null,
            "grid_gap": null,
            "grid_row": null,
            "grid_template_areas": null,
            "grid_template_columns": null,
            "grid_template_rows": null,
            "height": null,
            "justify_content": null,
            "justify_items": null,
            "left": null,
            "margin": null,
            "max_height": null,
            "max_width": null,
            "min_height": null,
            "min_width": null,
            "object_fit": null,
            "object_position": null,
            "order": null,
            "overflow": null,
            "overflow_x": null,
            "overflow_y": null,
            "padding": null,
            "right": null,
            "top": null,
            "visibility": null,
            "width": null
          }
        },
        "57e8b8127118436884f916a243091017": {
          "model_module": "@jupyter-widgets/controls",
          "model_name": "DescriptionStyleModel",
          "model_module_version": "1.5.0",
          "state": {
            "_model_module": "@jupyter-widgets/controls",
            "_model_module_version": "1.5.0",
            "_model_name": "DescriptionStyleModel",
            "_view_count": null,
            "_view_module": "@jupyter-widgets/base",
            "_view_module_version": "1.2.0",
            "_view_name": "StyleView",
            "description_width": ""
          }
        }
      }
    }
  },
  "cells": [
    {
      "cell_type": "markdown",
      "source": [
        "#ACL Pubcheck @ colab\n",
        "\n",
        "ACL pubcheck is a Python tool that automatically detects author formatting errors, margin violations as well as many other common formatting errors in papers that are using the LaTeX sty file associated with ACL venues. The script can be used to check your papers before you submit to a conference. (We highly recommend running ACL pubcheck on your papers pre-submission—a well formatted paper helps keep the reviewers focused on the scientific content.) However, its main purpose is to ensure your accepted paper is properly formatted, i.e., it follows the venue's style guidelines. The script is used by the publication chairs at most ACL events to check for formatting issues. Indeed, running this script yourself and fixing errors before uploading the camera-ready version of your paper will often save you a personalized email from the publication chairs.\n",
        "\n",
        "**NOTICE**: ACL pubcheck is meant to be run on the **camera ready** version of the paper, not on the review version (e.g. anonymous, line-numbered submission version). Running ACL pubcheck on a line-numbered version will result in a stream of spurious errors related to the numbers in the margins.\n",
        "\n",
        "More info can be found at: https://github.com/acl-org/aclpubcheck/blob/main/aclpubcheck_additional_info.pdf\n",
        "\n",
        "##What do you have to do?\n",
        "\n",
        "1. Install `aclpubcheck`\n",
        "2. Are you checking a long or short paper?\n",
        "3. Upload your PDF file\n",
        "4. Run `aclpubcheck` and see the outcomes\n",
        "5. (Hopefully not required:) fix the errors and re-run the code\n",
        "\n",
        "Let's check!"
      ],
      "metadata": {
        "id": "_tCawJsGR6RE"
      }
    },
    {
      "cell_type": "markdown",
      "source": [
        "## 1. Install  `aclpubcheck` and import libraries\n",
        "\n",
        "Run the code in this block to installl ACL pubcheck."
      ],
      "metadata": {
        "id": "Vsja4xipT4iz"
      }
    },
    {
      "cell_type": "code",
      "source": [
        "!pip install -q git+https://github.com/xhluca/aclpubcheck"
      ],
      "metadata": {
        "id": "yNEDRLWvQ3NZ",
        "colab": {
          "base_uri": "https://localhost:8080/"
        },
        "outputId": "b6181eb3-37b5-47b1-cc23-e923b7ffac62"
      },
      "execution_count": 11,
      "outputs": [
        {
          "output_type": "stream",
          "name": "stdout",
          "text": [
            "  Preparing metadata (setup.py) ... \u001b[?25l\u001b[?25hdone\n"
          ]
        }
      ]
    },
    {
      "cell_type": "code",
      "source": [
        "from ipywidgets import Dropdown\n",
        "from google.colab import files\n",
        "import os"
      ],
      "metadata": {
        "id": "2rplVJym54Y1"
      },
      "execution_count": null,
      "outputs": []
    },
    {
      "cell_type": "markdown",
      "source": [
        "##2. Are you checking a long or short paper?"
      ],
      "metadata": {
        "id": "0yiTvBIgTbpo"
      }
    },
    {
      "cell_type": "markdown",
      "source": [
        "Please select the correct paper type: Long, short or demo. This will help us check whether you have the correct paper length."
      ],
      "metadata": {
        "id": "Pu1LRCSYahJ8"
      }
    },
    {
      "cell_type": "code",
      "source": [
        "# Define the list of options\n",
        "options = [\"long\", \"short\", \"demo\"]\n",
        "\n",
        "# Create the dropdown widget\n",
        "dropdown = Dropdown(\n",
        "    options=options, value=\"long\", description=\"Paper type:\"\n",
        ")\n",
        "\n",
        "# Display the dropdown\n",
        "display(dropdown)"
      ],
      "metadata": {
        "id": "BePpvMG75sO2",
        "outputId": "1f2204e9-91f6-41a0-b2c6-b18cb6775880",
        "colab": {
          "base_uri": "https://localhost:8080/",
          "height": 49,
          "referenced_widgets": [
            "f6fed292d0ef485bbb83ad238dffe0b4",
            "4e6ae31e5e51498c924eea02c65f9cea",
            "57e8b8127118436884f916a243091017"
          ]
        }
      },
      "execution_count": 17,
      "outputs": [
        {
          "output_type": "display_data",
          "data": {
            "text/plain": [
              "Dropdown(description='Paper type:', options=('long', 'short', 'demo'), value='long')"
            ],
            "application/vnd.jupyter.widget-view+json": {
              "version_major": 2,
              "version_minor": 0,
              "model_id": "f6fed292d0ef485bbb83ad238dffe0b4"
            }
          },
          "metadata": {}
        }
      ]
    },
    {
      "cell_type": "markdown",
      "source": [
        "## 3. Upload your PDF file"
      ],
      "metadata": {
        "id": "9pOjnKu3Tmtm"
      }
    },
    {
      "cell_type": "markdown",
      "source": [
        "!pip install --upgrade google.colab"
      ],
      "metadata": {
        "id": "S-yt_dpD6aph"
      }
    },
    {
      "cell_type": "code",
      "source": [
        "paper_type = dropdown.value\n",
        "uploaded = files.upload()\n",
        "filename = list(uploaded.keys())[0]\n",
        "length = len(uploaded[filename])\n",
        "os.rename(filename, \"paper.pdf\")"
      ],
      "metadata": {
        "id": "0KyiVz9gQRqa"
      },
      "execution_count": null,
      "outputs": []
    },
    {
      "cell_type": "markdown",
      "source": [
        "# 4. Run `aclpubcheck` and see the outcomes\n",
        "\n",
        "Please, see the output of this code block to read the output of the analysis.\n",
        "\n",
        "**Notice**: if the tool finds any issue, it will show the problematic page(s)."
      ],
      "metadata": {
        "id": "eFjTQ1nWT_h3"
      }
    },
    {
      "cell_type": "code",
      "source": [
        "!aclpubcheck --paper_type $paper_type paper.pdf"
      ],
      "metadata": {
        "id": "5KmieUUJTBv7",
        "outputId": "fc63f552-8469-4de9-9a34-1c04f81a2f79",
        "colab": {
          "base_uri": "https://localhost:8080/"
        }
      },
      "execution_count": 25,
      "outputs": [
        {
          "output_type": "stream",
          "name": "stdout",
          "text": [
            "Checking paper.pdf\n",
            "\u001b[32mAll Clear!\u001b[0m\n"
          ]
        }
      ]
    }
  ]
}